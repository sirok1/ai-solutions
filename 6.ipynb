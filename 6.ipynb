{
 "cells": [
  {
   "cell_type": "markdown",
   "source": [
    "# Задание"
   ],
   "metadata": {
    "collapsed": false
   },
   "id": "fb58328917a921b7"
  },
  {
   "cell_type": "code",
   "execution_count": 52,
   "outputs": [],
   "source": [
    "#функция качества хромосомы\n",
    "def qZ(x, y):\n",
    "    return (x - 3 * y + 1) / (3 * x ** 2 + y ** 2 + 1)"
   ],
   "metadata": {
    "collapsed": false,
    "ExecuteTime": {
     "end_time": "2023-12-07T07:05:48.348113070Z",
     "start_time": "2023-12-07T07:05:48.202212981Z"
    }
   },
   "id": "3a4fbdea7b539b69"
  },
  {
   "cell_type": "code",
   "execution_count": 53,
   "outputs": [],
   "source": [
    "#сумма качества хромосом\n",
    "def qSumZ(Z):\n",
    "    return sum(Z)"
   ],
   "metadata": {
    "collapsed": false,
    "ExecuteTime": {
     "end_time": "2023-12-07T07:05:48.436191723Z",
     "start_time": "2023-12-07T07:05:48.249595985Z"
    }
   },
   "id": "14b713b353f5264a"
  },
  {
   "cell_type": "code",
   "execution_count": 54,
   "outputs": [],
   "source": [
    "def exchangeScheme(oldX, oldY, sortedId):\n",
    "    x = [0 for i in range(4)]\n",
    "    y = [0 for i in range(4)]\n",
    "    \n",
    "    x[2] = oldX[sortedId[2]]\n",
    "    x[3] = oldX[sortedId[2]]\n",
    "    \n",
    "    x[0] = oldX[sortedId[0]]\n",
    "    \n",
    "    x[1] = oldX[sortedId[1]]\n",
    "    \n",
    "    y[0] = oldY[sortedId[2]]\n",
    "    y[1] = oldY[sortedId[2]]\n",
    "    \n",
    "    y[2] = oldY[sortedId[0]]\n",
    "    \n",
    "    y[3] = oldY[sortedId[1]]\n",
    "    \n",
    "    return x, y"
   ],
   "metadata": {
    "collapsed": false,
    "ExecuteTime": {
     "end_time": "2023-12-07T07:05:48.436557537Z",
     "start_time": "2023-12-07T07:05:48.250078679Z"
    }
   },
   "id": "8a2ba31214f3cbe6"
  },
  {
   "cell_type": "code",
   "execution_count": 55,
   "outputs": [],
   "source": [
    "def sorting(Z):\n",
    "    sortedId = sorted(range(len(Z)), key=lambda k: Z[k])\n",
    "    return sortedId"
   ],
   "metadata": {
    "collapsed": false,
    "ExecuteTime": {
     "end_time": "2023-12-07T07:05:48.436693029Z",
     "start_time": "2023-12-07T07:05:48.250309693Z"
    }
   },
   "id": "93dd283f6e6a6b6"
  },
  {
   "cell_type": "code",
   "execution_count": 56,
   "outputs": [],
   "source": [
    "#шаг эволюции\n",
    "def evoStep(x, y, z):\n",
    "    _, minId = min((value, id) for (id, value) in enumerate(z))\n",
    "    x = x[:]\n",
    "    y = y[:]\n",
    "    z = z[:]\n",
    "    \n",
    "    x.pop(minId)\n",
    "    y.pop(minId)\n",
    "    z.pop(minId)\n",
    "    \n",
    "    return x, y, z"
   ],
   "metadata": {
    "collapsed": false,
    "ExecuteTime": {
     "end_time": "2023-12-07T07:05:48.436790260Z",
     "start_time": "2023-12-07T07:05:48.250563408Z"
    }
   },
   "id": "bcbaf45fb391f597"
  },
  {
   "cell_type": "code",
   "execution_count": 57,
   "outputs": [],
   "source": [
    "#шаги эволюции (конечная функция), по умолчанию 4 шага\n",
    "def evoSteps(x, y, steps_num=4):\n",
    "    results = []\n",
    "    \n",
    "    for i in range(steps_num):\n",
    "        arrZ = [qZ(k, y[i]) for i, k in enumerate(x)]\n",
    "        \n",
    "        x, y, z = evoStep(x, y, arrZ)\n",
    "        \n",
    "        x, y = exchangeScheme(x, y, sorting(z))\n",
    "        \n",
    "        results.append([x, y, qSumZ(arrZ), arrZ])\n",
    "    \n",
    "    return x, y, results"
   ],
   "metadata": {
    "collapsed": false,
    "ExecuteTime": {
     "end_time": "2023-12-07T07:05:48.436882697Z",
     "start_time": "2023-12-07T07:05:48.250783341Z"
    }
   },
   "id": "96e5b4e622c57e82"
  },
  {
   "cell_type": "code",
   "execution_count": 58,
   "outputs": [],
   "source": [
    "# объявление массивов хромосом\n",
    "x = [-2, -1, 0, 2]\n",
    "y = [-2, 0, -1, 1]\n",
    "\n",
    "# реализация алгоритма\n",
    "results = evoSteps(x, y)"
   ],
   "metadata": {
    "collapsed": false,
    "ExecuteTime": {
     "end_time": "2023-12-07T07:05:48.436979967Z",
     "start_time": "2023-12-07T07:05:48.250985153Z"
    }
   },
   "id": "d67f65ef6184d7c5"
  },
  {
   "cell_type": "code",
   "execution_count": 59,
   "outputs": [
    {
     "name": "stdout",
     "output_type": "stream",
     "text": [
      "max_1_step: 2.2941176470588234\n",
      "max_2_step: 0.9714285714285713\n",
      "max_3_step: 4.823529411764706\n",
      "max_4_step: 5.828571428571428\n",
      "max Z: 2.0\n"
     ]
    }
   ],
   "source": [
    "for i in range(len(results[2])):\n",
    "    print(f'max_{i + 1}_step: {results[2][i][2]}')\n",
    "\n",
    "qualityArrZ = []\n",
    "for i in range(len(results[2])):\n",
    "    qualityArrZ += results[2][i][3]\n",
    "\n",
    "print(f'max Z: {max(qualityArrZ)}')"
   ],
   "metadata": {
    "collapsed": false,
    "ExecuteTime": {
     "end_time": "2023-12-07T07:05:48.437395634Z",
     "start_time": "2023-12-07T07:05:48.251762014Z"
    }
   },
   "id": "995c3801cee92209"
  },
  {
   "cell_type": "markdown",
   "source": [
    "# Задание"
   ],
   "metadata": {
    "collapsed": false
   },
   "id": "29291ac0b2b689ca"
  },
  {
   "cell_type": "code",
   "execution_count": 60,
   "outputs": [],
   "source": [
    "import networkx as nx\n",
    "from math import e\n",
    "distances = [(1, 2, 18),\n",
    "            (1, 3, 41),\n",
    "            (1, 4, 36), \n",
    "            (1, 5, 29),\n",
    "            (1, 6, 19),\n",
    "            (2, 3, 27),\n",
    "            (2, 4, 31),\n",
    "            (2, 5, 37),\n",
    "            (2, 6, 15),\n",
    "            (3, 4, 19),\n",
    "            (3, 5, 42),\n",
    "            (3, 6, 23),\n",
    "            (4, 5, 24),\n",
    "            (4, 6, 17),\n",
    "            (5, 6, 24)] #длины рёбер\n",
    "\n",
    "V = [1, 3, 4, 5, 6, 2, 1] #последовательность прохождения маршрута\n",
    "Z = [(2, 4),\n",
    "    (3, 4),\n",
    "    (4, 6),\n",
    "    (5, 4)] #последовательность замен вершин\n",
    "P = [63, 49, 45, 53] #случайные числа, выпавшие в процессе счёта\n",
    "\n",
    "T = 100 #начальная температура"
   ],
   "metadata": {
    "collapsed": false,
    "ExecuteTime": {
     "end_time": "2023-12-07T07:05:48.437535882Z",
     "start_time": "2023-12-07T07:05:48.256026059Z"
    }
   },
   "id": "d9dd6bf11cf305af"
  },
  {
   "cell_type": "code",
   "execution_count": 61,
   "outputs": [],
   "source": [
    "#функция вероятности\n",
    "def probability(delta, T):\n",
    "    return 100 * e ** (-delta / T)\n",
    "\n",
    "#функция изменения температуры\n",
    "def reductTemp(prevT):\n",
    "    nextT = 0.5 * prevT\n",
    "    return nextT"
   ],
   "metadata": {
    "collapsed": false,
    "ExecuteTime": {
     "end_time": "2023-12-07T07:05:48.437904389Z",
     "start_time": "2023-12-07T07:05:48.269719119Z"
    }
   },
   "id": "c563d26c4dab0b27"
  },
  {
   "cell_type": "code",
   "execution_count": 62,
   "outputs": [],
   "source": [
    "# вычисление длины ребра\n",
    "def edgeLength(i, j, distances, roundTrip=True):\n",
    "    if roundTrip:\n",
    "        return max([(item[2] if (item[0] == i and item[1] == j) or (item[1] == i and item[0] == j) else -1)\n",
    "                   for item in distances])\n",
    "    else:\n",
    "        return max([(item[2] if (item[0] == i and item[1] == j) else -1) for item in distances])"
   ],
   "metadata": {
    "collapsed": false,
    "ExecuteTime": {
     "end_time": "2023-12-07T07:05:48.438019410Z",
     "start_time": "2023-12-07T07:05:48.310409285Z"
    }
   },
   "id": "cb4fd3ae4022759a"
  },
  {
   "cell_type": "code",
   "execution_count": 63,
   "outputs": [],
   "source": [
    "# вычисление длины маршрута\n",
    "def routeLength(V, distances):\n",
    "    edges = []\n",
    "    \n",
    "    for i in range(len(V) - 1):\n",
    "        edges.append(edgeLength(V[i], V[i + 1], distances))\n",
    "    \n",
    "    return sum(edges)"
   ],
   "metadata": {
    "collapsed": false,
    "ExecuteTime": {
     "end_time": "2023-12-07T07:05:48.438123920Z",
     "start_time": "2023-12-07T07:05:48.310692Z"
    }
   },
   "id": "283a3941490fe1c9"
  },
  {
   "cell_type": "code",
   "execution_count": 64,
   "outputs": [],
   "source": [
    "#одна перестановка в пути\n",
    "def routeOneReplacement(arrV, Z, replacementByName=True):\n",
    "    decrement = 1 if replacementByName else 0\n",
    "    \n",
    "    arrV[Z[0] - decrement], arrV[Z[1] - decrement] = arrV[Z[1] - decrement], arrV[Z[0] - decrement]\n",
    "\n",
    "    return arrV"
   ],
   "metadata": {
    "collapsed": false,
    "ExecuteTime": {
     "end_time": "2023-12-07T07:05:48.438220558Z",
     "start_time": "2023-12-07T07:05:48.310907279Z"
    }
   },
   "id": "afd197fa1f15aebd"
  },
  {
   "cell_type": "code",
   "execution_count": 65,
   "outputs": [],
   "source": [
    "#перестановка в пути\n",
    "def routeReplacement(V, Z):\n",
    "    for z in Z:\n",
    "        V = routeOneReplacement(V, z)\n",
    "    return V"
   ],
   "metadata": {
    "collapsed": false,
    "ExecuteTime": {
     "end_time": "2023-12-07T07:05:48.438337236Z",
     "start_time": "2023-12-07T07:05:48.311033964Z"
    }
   },
   "id": "5d36d6a15316b67e"
  },
  {
   "cell_type": "code",
   "execution_count": 66,
   "outputs": [],
   "source": [
    "#выбор нужного пути методом отжига\n",
    "def chooseRoute(distances, V, Z, T, P):\n",
    "    sumLength = routeLength(V, distances) #нахождение длины пути\n",
    "    arrSum = [sumLength] #массив сумм длин\n",
    "    \n",
    "    #циклы методом отжига\n",
    "    for i in range(len(Z)):\n",
    "        newV = routeOneReplacement(V[:], Z[i]) #новый маршрут после перестановки\n",
    "        newS = routeLength(newV, distances) #длина нового маршрута\n",
    "        arrSum.append(newS)\n",
    "        deltaS = newS - sumLength #разница между длиной нового и старого маршрутов\n",
    "        \n",
    "        #в случае, если разница между длинами больше 0, то вычисляется вероятность\n",
    "        if deltaS > 0:\n",
    "            p = probability(deltaS, T) #подсчёт вероятности\n",
    "            \n",
    "            #если заданная вероятность попадает в интервал от 0 до p, то новый маршрут выбирается\n",
    "            if p > P[i]:\n",
    "                V = newV\n",
    "                sumLength = newS\n",
    "        else:\n",
    "            V = newV\n",
    "            sumLength = newS\n",
    "            \n",
    "        T = reductTemp(T) #вычисление температуры\n",
    "    \n",
    "    return V, arrSum"
   ],
   "metadata": {
    "collapsed": false,
    "ExecuteTime": {
     "end_time": "2023-12-07T07:05:48.450366749Z",
     "start_time": "2023-12-07T07:05:48.353546764Z"
    }
   },
   "id": "5e8b4a190a5b3868"
  },
  {
   "cell_type": "code",
   "execution_count": 67,
   "outputs": [],
   "source": [
    "#отрисовка графа по заданному маршруту\n",
    "def drawRouteGraph(distances, bestRoute):\n",
    "    newDistances = []\n",
    "    #прохождение по вектору\n",
    "    for i in range(len(bestRoute) - 1):\n",
    "        for distance in distances:\n",
    "            if distance[0] == bestRoute[i] and distance[1] == bestRoute[i + 1] or distance[1] == bestRoute[i] and distance[0] == bestRoute[i + 1]:\n",
    "                newDistances.append(distance)\n",
    "    \n",
    "    graph = nx.Graph() #создание пустого графа\n",
    "    \n",
    "    graph.add_weighted_edges_from(newDistances) #добавление весов рёбер\n",
    "    #отрисовка графа с заданными вершинами\n",
    "    nx.draw_kamada_kawai(graph, node_color='#fb7258', node_size=2000, with_labels=True)"
   ],
   "metadata": {
    "collapsed": false,
    "ExecuteTime": {
     "end_time": "2023-12-07T07:05:48.451258391Z",
     "start_time": "2023-12-07T07:05:48.354011722Z"
    }
   },
   "id": "e2258fd71fe2fd53"
  },
  {
   "cell_type": "code",
   "execution_count": 68,
   "outputs": [
    {
     "name": "stdout",
     "output_type": "stream",
     "text": [
      "Лучший выбранный маршрут: [1, 5, 3, 4, 6, 2, 1]\n",
      "Длина лучшего выбранного маршрута: 140\n",
      "Длины всех рассмотренных маршрутов: [141, 128, 140, 166, 160]\n"
     ]
    },
    {
     "data": {
      "text/plain": "<Figure size 640x480 with 1 Axes>",
      "image/png": "[encoded data removed]"
     },
     "metadata": {},
     "output_type": "display_data"
    }
   ],
   "source": [
    "bestRoute, arrLength = chooseRoute(distances, V, Z, T, P)\n",
    "\n",
    "print(f'Лучший выбранный маршрут: {bestRoute}')\n",
    "print(f'Длина лучшего выбранного маршрута: {routeLength(bestRoute, distances)}')\n",
    "print(f'Длины всех рассмотренных маршрутов: {arrLength}')\n",
    "\n",
    "drawRouteGraph(distances, bestRoute) #отрисовка лучшего маршрута"
   ],
   "metadata": {
    "collapsed": false,
    "ExecuteTime": {
     "end_time": "2023-12-07T07:05:48.583952885Z",
     "start_time": "2023-12-07T07:05:48.354180057Z"
    }
   },
   "id": "3746b979755762f4"
  },
  {
   "cell_type": "markdown",
   "source": [],
   "metadata": {
    "collapsed": false
   },
   "id": "dcfdda50e6ba81b9"
  }
 ],
 "metadata": {
  "kernelspec": {
   "display_name": "Python 3",
   "language": "python",
   "name": "python3"
  },
  "language_info": {
   "codemirror_mode": {
    "name": "ipython",
    "version": 2
   },
   "file_extension": ".py",
   "mimetype": "text/x-python",
   "name": "python",
   "nbconvert_exporter": "python",
   "pygments_lexer": "ipython2",
   "version": "2.7.6"
  }
 },
 "nbformat": 4,
 "nbformat_minor": 5
}
