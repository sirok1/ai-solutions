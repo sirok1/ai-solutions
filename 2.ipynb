{
 "cells": [
  {
   "cell_type": "markdown",
   "metadata": {},
   "source": [
    "
   ]
  },
  {
   "cell_type": "markdown",
   "metadata": {},
   "source": [
    "Создать 8x8 матрицу и заполнить её в шахматном порядке нулями и единицами."
   ]
  },
  {
   "cell_type": "code",
   "execution_count": 64,
   "metadata": {
    "ExecuteTime": {
     "end_time": "2023-11-09T06:59:37.019380031Z",
     "start_time": "2023-11-09T06:59:36.926239807Z"
    }
   },
   "outputs": [
    {
     "name": "stdout",
     "output_type": "stream",
     "text": [
      "[[0 1 0 1 0 1 0 1]\n",
      " [1 0 1 0 1 0 1 0]\n",
      " [0 1 0 1 0 1 0 1]\n",
      " [1 0 1 0 1 0 1 0]\n",
      " [0 1 0 1 0 1 0 1]\n",
      " [1 0 1 0 1 0 1 0]\n",
      " [0 1 0 1 0 1 0 1]\n",
      " [1 0 1 0 1 0 1 0]]\n"
     ]
    }
   ],
   "source": [
    "import numpy as np\n",
    "arr = np.fromfunction(lambda i, j: (i + j) % 2, (8, 8), dtype=int)\n",
    "print(arr)"
   ]
  },
  {
   "cell_type": "markdown",
   "metadata": {},
   "source": [
    "
   ]
  },
  {
   "cell_type": "markdown",
   "metadata": {},
   "source": [
    "Создать 5x5 матрицу со значениями в строках от 0 до 4. Для создания необходимо использовать функцию arrange."
   ]
  },
  {
   "cell_type": "code",
   "execution_count": 65,
   "metadata": {
    "ExecuteTime": {
     "end_time": "2023-11-09T06:59:37.045233056Z",
     "start_time": "2023-11-09T06:59:36.931738941Z"
    }
   },
   "outputs": [
    {
     "name": "stdout",
     "output_type": "stream",
     "text": [
      "[[0 1 2 3 4]\n",
      " [0 1 2 3 4]\n",
      " [0 1 2 3 4]\n",
      " [0 1 2 3 4]\n",
      " [0 1 2 3 4]]\n"
     ]
    }
   ],
   "source": [
    "import numpy as np\n",
    "\n",
    "arr = np.array([np.arange(0, 5) for _ in range(5)])\n",
    "print(arr)"
   ]
  },
  {
   "cell_type": "markdown",
   "metadata": {},
   "source": [
    "
   ]
  },
  {
   "cell_type": "markdown",
   "metadata": {},
   "source": [
    "Создать массив 3x3x3 со случайными значениями.\n"
   ]
  },
  {
   "cell_type": "code",
   "execution_count": 66,
   "metadata": {
    "ExecuteTime": {
     "end_time": "2023-11-09T06:59:37.110019821Z",
     "start_time": "2023-11-09T06:59:36.939941219Z"
    }
   },
   "outputs": [
    {
     "name": "stdout",
     "output_type": "stream",
     "text": [
      "[[[0.97810844 0.04091081 0.08372165]\n",
      "  [0.48663321 0.95911385 0.19975576]\n",
      "  [0.61623206 0.4717706  0.92652393]]\n",
      "\n",
      " [[0.26324122 0.38301563 0.96319912]\n",
      "  [0.35839821 0.03270066 0.40297621]\n",
      "  [0.63684997 0.44831173 0.11653832]]\n",
      "\n",
      " [[0.97649945 0.95237953 0.29253933]\n",
      "  [0.98148354 0.79714308 0.49245964]\n",
      "  [0.47800165 0.10117972 0.06551006]]]\n"
     ]
    }
   ],
   "source": [
    "import numpy as np\n",
    "\n",
    "arr = np.random.random((3, 3, 3))\n",
    "print(arr)"
   ]
  },
  {
   "cell_type": "markdown",
   "metadata": {},
   "source": [
    "
   ]
  },
  {
   "cell_type": "markdown",
   "metadata": {},
   "source": [
    "Создать матрицу с 0 внутри, и 1 на границах."
   ]
  },
  {
   "cell_type": "code",
   "execution_count": 67,
   "metadata": {
    "ExecuteTime": {
     "end_time": "2023-11-09T06:59:37.110481946Z",
     "start_time": "2023-11-09T06:59:36.946586812Z"
    }
   },
   "outputs": [
    {
     "name": "stdout",
     "output_type": "stream",
     "text": [
      "[[1 1 1 1 1 1 1 1 1 1]\n",
      " [1 0 0 0 0 0 0 0 0 1]\n",
      " [1 0 0 0 0 0 0 0 0 1]\n",
      " [1 0 0 0 0 0 0 0 0 1]\n",
      " [1 0 0 0 0 0 0 0 0 1]\n",
      " [1 0 0 0 0 0 0 0 0 1]\n",
      " [1 0 0 0 0 0 0 0 0 1]\n",
      " [1 0 0 0 0 0 0 0 0 1]\n",
      " [1 0 0 0 0 0 0 0 0 1]\n",
      " [1 1 1 1 1 1 1 1 1 1]]\n"
     ]
    }
   ],
   "source": [
    "import numpy as np\n",
    "n = 10\n",
    "m = 10\n",
    "arr = np.ones((n, m), dtype=int)\n",
    "arr[1:n-1, 1:m-1] = 0\n",
    "print(arr)"
   ]
  },
  {
   "cell_type": "markdown",
   "metadata": {},
   "source": [
    "
   ]
  },
  {
   "cell_type": "markdown",
   "metadata": {},
   "source": [
    "Создайте массив и отсортируйте его по убыванию."
   ]
  },
  {
   "cell_type": "code",
   "execution_count": 68,
   "metadata": {
    "ExecuteTime": {
     "end_time": "2023-11-09T06:59:37.111791298Z",
     "start_time": "2023-11-09T06:59:36.952372638Z"
    }
   },
   "outputs": [
    {
     "name": "stdout",
     "output_type": "stream",
     "text": [
      "[0.68728139 0.60331493 0.50722275 0.49662705 0.42999341 0.33973932\n",
      " 0.29869341 0.21315596 0.21254822 0.15602871]\n"
     ]
    }
   ],
   "source": [
    "import numpy as np\n",
    "\n",
    "n = 10\n",
    "arr = np.random.random(n)\n",
    "arr = -np.sort(-arr)\n",
    "print(arr)"
   ]
  },
  {
   "cell_type": "markdown",
   "metadata": {},
   "source": [
    "
   ]
  },
  {
   "cell_type": "markdown",
   "metadata": {},
   "source": [
    "Создайте матрицу, выведите ее форму, размер и размерность"
   ]
  },
  {
   "cell_type": "code",
   "execution_count": 69,
   "metadata": {
    "ExecuteTime": {
     "end_time": "2023-11-09T06:59:37.112935098Z",
     "start_time": "2023-11-09T06:59:36.959271908Z"
    }
   },
   "outputs": [
    {
     "name": "stdout",
     "output_type": "stream",
     "text": [
      "(3, 3) 9 2\n"
     ]
    }
   ],
   "source": [
    "import numpy as np\n",
    "\n",
    "matrix = np.matrix(np.arange(1, 10).reshape((3, 3)))\n",
    "\n",
    "print(matrix.shape, matrix.size, matrix.ndim)"
   ]
  },
  {
   "cell_type": "markdown",
   "metadata": {},
   "source": []
  },
  {
   "cell_type": "markdown",
   "metadata": {},
   "source": [
    "
   ]
  },
  {
   "cell_type": "markdown",
   "metadata": {},
   "source": [
    "Найдите евклидово расстояние между двумя Series (точками) a и b, не используя встроенную формулу"
   ]
  },
  {
   "cell_type": "code",
   "execution_count": 70,
   "metadata": {
    "ExecuteTime": {
     "end_time": "2023-11-09T06:59:37.121836412Z",
     "start_time": "2023-11-09T06:59:36.965959023Z"
    }
   },
   "outputs": [
    {
     "name": "stdout",
     "output_type": "stream",
     "text": [
      "4.123105625617661\n"
     ]
    }
   ],
   "source": [
    "import pandas as pd\n",
    "\n",
    "\n",
    "a = pd.Series([3, 5])\n",
    "b = pd.Series([7, 4])\n",
    "\n",
    "print(sum((a - b) ** 2) ** 0.5)\n"
   ]
  },
  {
   "cell_type": "markdown",
   "metadata": {},
   "source": [
    "
   ]
  },
  {
   "cell_type": "markdown",
   "metadata": {},
   "source": [
    "Найдите в Интернете ссылку на любой csv файл и сформируйте из него фрейм данных."
   ]
  },
  {
   "cell_type": "code",
   "execution_count": 71,
   "metadata": {
    "ExecuteTime": {
     "end_time": "2023-11-09T06:59:37.880206371Z",
     "start_time": "2023-11-09T06:59:36.975458892Z"
    }
   },
   "outputs": [
    {
     "data": {
      "text/plain": "   LatD   \"LatM\"   \"LatS\"  \"NS\"   \"LonD\"   \"LonM\"   \"LonS\"  \"EW\"  \\\n0    41        5       59   \"N\"       80       39        0   \"W\"   \n1    42       52       48   \"N\"       97       23       23   \"W\"   \n2    46       35       59   \"N\"      120       30       36   \"W\"   \n3    42       16       12   \"N\"       71       48        0   \"W\"   \n4    43       37       48   \"N\"       89       46       11   \"W\"   \n\n               \"City\"  \"State\"  \n0        \"Youngstown\"       OH  \n1           \"Yankton\"       SD  \n2            \"Yakima\"       WA  \n3         \"Worcester\"       MA  \n4   \"Wisconsin Dells\"       WI  ",
      "text/html": "<div>\n<style scoped>\n    .dataframe tbody tr th:only-of-type {\n        vertical-align: middle;\n    }\n\n    .dataframe tbody tr th {\n        vertical-align: top;\n    }\n\n    .dataframe thead th {\n        text-align: right;\n    }\n</style>\n<table border=\"1\" class=\"dataframe\">\n  <thead>\n    <tr style=\"text-align: right;\">\n      <th></th>\n      <th>LatD</th>\n      <th>\"LatM\"</th>\n      <th>\"LatS\"</th>\n      <th>\"NS\"</th>\n      <th>\"LonD\"</th>\n      <th>\"LonM\"</th>\n      <th>\"LonS\"</th>\n      <th>\"EW\"</th>\n      <th>\"City\"</th>\n      <th>\"State\"</th>\n    </tr>\n  </thead>\n  <tbody>\n    <tr>\n      <th>0</th>\n      <td>41</td>\n      <td>5</td>\n      <td>59</td>\n      <td>\"N\"</td>\n      <td>80</td>\n      <td>39</td>\n      <td>0</td>\n      <td>\"W\"</td>\n      <td>\"Youngstown\"</td>\n      <td>OH</td>\n    </tr>\n    <tr>\n      <th>1</th>\n      <td>42</td>\n      <td>52</td>\n      <td>48</td>\n      <td>\"N\"</td>\n      <td>97</td>\n      <td>23</td>\n      <td>23</td>\n      <td>\"W\"</td>\n      <td>\"Yankton\"</td>\n      <td>SD</td>\n    </tr>\n    <tr>\n      <th>2</th>\n      <td>46</td>\n      <td>35</td>\n      <td>59</td>\n      <td>\"N\"</td>\n      <td>120</td>\n      <td>30</td>\n      <td>36</td>\n      <td>\"W\"</td>\n      <td>\"Yakima\"</td>\n      <td>WA</td>\n    </tr>\n    <tr>\n      <th>3</th>\n      <td>42</td>\n      <td>16</td>\n      <td>12</td>\n      <td>\"N\"</td>\n      <td>71</td>\n      <td>48</td>\n      <td>0</td>\n      <td>\"W\"</td>\n      <td>\"Worcester\"</td>\n      <td>MA</td>\n    </tr>\n    <tr>\n      <th>4</th>\n      <td>43</td>\n      <td>37</td>\n      <td>48</td>\n      <td>\"N\"</td>\n      <td>89</td>\n      <td>46</td>\n      <td>11</td>\n      <td>\"W\"</td>\n      <td>\"Wisconsin Dells\"</td>\n      <td>WI</td>\n    </tr>\n  </tbody>\n</table>\n</div>"
     },
     "execution_count": 71,
     "metadata": {},
     "output_type": "execute_result"
    }
   ],
   "source": [
    "import pandas as pd\n",
    "url = 'https://people.sc.fsu.edu/~jburkardt/data/csv/cities.csv'\n",
    "dataframe = pd.read_csv(url)\n",
    "dataframe.head(5)"
   ]
  },
  {
   "cell_type": "markdown",
   "metadata": {},
   "source": [
    "
   ]
  },
  {
   "cell_type": "code",
   "execution_count": 72,
   "metadata": {
    "ExecuteTime": {
     "end_time": "2023-11-09T06:59:37.881392081Z",
     "start_time": "2023-11-09T06:59:37.829994036Z"
    }
   },
   "outputs": [
    {
     "data": {
      "text/plain": "   LatD   \"LatM\"   \"LatS\"  \"NS\"   \"LonD\"   \"LonM\"   \"LonS\"  \"EW\"  \\\n0    41        5       59   \"N\"       80       39        0   \"W\"   \n1    42       52       48   \"N\"       97       23       23   \"W\"   \n\n          \"City\"  \"State\"  \n0   \"Youngstown\"       OH  \n1      \"Yankton\"       SD  ",
      "text/html": "<div>\n<style scoped>\n    .dataframe tbody tr th:only-of-type {\n        vertical-align: middle;\n    }\n\n    .dataframe tbody tr th {\n        vertical-align: top;\n    }\n\n    .dataframe thead th {\n        text-align: right;\n    }\n</style>\n<table border=\"1\" class=\"dataframe\">\n  <thead>\n    <tr style=\"text-align: right;\">\n      <th></th>\n      <th>LatD</th>\n      <th>\"LatM\"</th>\n      <th>\"LatS\"</th>\n      <th>\"NS\"</th>\n      <th>\"LonD\"</th>\n      <th>\"LonM\"</th>\n      <th>\"LonS\"</th>\n      <th>\"EW\"</th>\n      <th>\"City\"</th>\n      <th>\"State\"</th>\n    </tr>\n  </thead>\n  <tbody>\n    <tr>\n      <th>0</th>\n      <td>41</td>\n      <td>5</td>\n      <td>59</td>\n      <td>\"N\"</td>\n      <td>80</td>\n      <td>39</td>\n      <td>0</td>\n      <td>\"W\"</td>\n      <td>\"Youngstown\"</td>\n      <td>OH</td>\n    </tr>\n    <tr>\n      <th>1</th>\n      <td>42</td>\n      <td>52</td>\n      <td>48</td>\n      <td>\"N\"</td>\n      <td>97</td>\n      <td>23</td>\n      <td>23</td>\n      <td>\"W\"</td>\n      <td>\"Yankton\"</td>\n      <td>SD</td>\n    </tr>\n  </tbody>\n</table>\n</div>"
     },
     "execution_count": 72,
     "metadata": {},
     "output_type": "execute_result"
    }
   ],
   "source": [
    "dataframe.head(2)"
   ]
  },
  {
   "cell_type": "code",
   "execution_count": 73,
   "metadata": {
    "ExecuteTime": {
     "end_time": "2023-11-09T06:59:37.881901328Z",
     "start_time": "2023-11-09T06:59:37.830221538Z"
    }
   },
   "outputs": [
    {
     "data": {
      "text/plain": "     LatD   \"LatM\"   \"LatS\"  \"NS\"   \"LonD\"   \"LonM\"   \"LonS\"  \"EW\"  \\\n125    40       10       48   \"N\"      122       14       23   \"W\"   \n126    40       19       48   \"N\"       75       55       48   \"W\"   \n127    41        9       35   \"N\"       81       14       23   \"W\"   \n\n           \"City\"  \"State\"  \n125   \"Red Bluff\"       CA  \n126     \"Reading\"       PA  \n127     \"Ravenna\"      OH   ",
      "text/html": "<div>\n<style scoped>\n    .dataframe tbody tr th:only-of-type {\n        vertical-align: middle;\n    }\n\n    .dataframe tbody tr th {\n        vertical-align: top;\n    }\n\n    .dataframe thead th {\n        text-align: right;\n    }\n</style>\n<table border=\"1\" class=\"dataframe\">\n  <thead>\n    <tr style=\"text-align: right;\">\n      <th></th>\n      <th>LatD</th>\n      <th>\"LatM\"</th>\n      <th>\"LatS\"</th>\n      <th>\"NS\"</th>\n      <th>\"LonD\"</th>\n      <th>\"LonM\"</th>\n      <th>\"LonS\"</th>\n      <th>\"EW\"</th>\n      <th>\"City\"</th>\n      <th>\"State\"</th>\n    </tr>\n  </thead>\n  <tbody>\n    <tr>\n      <th>125</th>\n      <td>40</td>\n      <td>10</td>\n      <td>48</td>\n      <td>\"N\"</td>\n      <td>122</td>\n      <td>14</td>\n      <td>23</td>\n      <td>\"W\"</td>\n      <td>\"Red Bluff\"</td>\n      <td>CA</td>\n    </tr>\n    <tr>\n      <th>126</th>\n      <td>40</td>\n      <td>19</td>\n      <td>48</td>\n      <td>\"N\"</td>\n      <td>75</td>\n      <td>55</td>\n      <td>48</td>\n      <td>\"W\"</td>\n      <td>\"Reading\"</td>\n      <td>PA</td>\n    </tr>\n    <tr>\n      <th>127</th>\n      <td>41</td>\n      <td>9</td>\n      <td>35</td>\n      <td>\"N\"</td>\n      <td>81</td>\n      <td>14</td>\n      <td>23</td>\n      <td>\"W\"</td>\n      <td>\"Ravenna\"</td>\n      <td>OH</td>\n    </tr>\n  </tbody>\n</table>\n</div>"
     },
     "execution_count": 73,
     "metadata": {},
     "output_type": "execute_result"
    }
   ],
   "source": [
    "dataframe.tail(3)"
   ]
  },
  {
   "cell_type": "code",
   "execution_count": 74,
   "metadata": {
    "ExecuteTime": {
     "end_time": "2023-11-09T06:59:37.882064964Z",
     "start_time": "2023-11-09T06:59:37.830322574Z"
    }
   },
   "outputs": [
    {
     "name": "stdout",
     "output_type": "stream",
     "text": [
      "(128, 10)\n"
     ]
    }
   ],
   "source": [
    "print(dataframe.shape)"
   ]
  },
  {
   "cell_type": "code",
   "execution_count": 75,
   "metadata": {
    "ExecuteTime": {
     "end_time": "2023-11-09T06:59:37.882419191Z",
     "start_time": "2023-11-09T06:59:37.830386722Z"
    }
   },
   "outputs": [
    {
     "data": {
      "text/plain": "             LatD      \"LatM\"      \"LatS\"      \"LonD\"      \"LonM\"      \"LonS\"\ncount  128.000000  128.000000  128.000000  128.000000  128.000000  128.000000\nmean    38.820312   30.765625   27.492188   93.250000   27.742188   26.960938\nstd      5.200596   16.426158   18.977814   15.466499   16.927937   18.727807\nmin     26.000000    1.000000    0.000000   71.000000    0.000000    0.000000\n25%     35.000000   16.000000   11.000000   80.000000   14.000000   11.000000\n50%     39.000000   31.000000   24.000000   89.500000   26.500000   23.500000\n75%     42.250000   45.000000   47.000000  103.250000   40.250000   47.000000\nmax     50.000000   59.000000   59.000000  123.000000   58.000000   59.000000",
      "text/html": "<div>\n<style scoped>\n    .dataframe tbody tr th:only-of-type {\n        vertical-align: middle;\n    }\n\n    .dataframe tbody tr th {\n        vertical-align: top;\n    }\n\n    .dataframe thead th {\n        text-align: right;\n    }\n</style>\n<table border=\"1\" class=\"dataframe\">\n  <thead>\n    <tr style=\"text-align: right;\">\n      <th></th>\n      <th>LatD</th>\n      <th>\"LatM\"</th>\n      <th>\"LatS\"</th>\n      <th>\"LonD\"</th>\n      <th>\"LonM\"</th>\n      <th>\"LonS\"</th>\n    </tr>\n  </thead>\n  <tbody>\n    <tr>\n      <th>count</th>\n      <td>128.000000</td>\n      <td>128.000000</td>\n      <td>128.000000</td>\n      <td>128.000000</td>\n      <td>128.000000</td>\n      <td>128.000000</td>\n    </tr>\n    <tr>\n      <th>mean</th>\n      <td>38.820312</td>\n      <td>30.765625</td>\n      <td>27.492188</td>\n      <td>93.250000</td>\n      <td>27.742188</td>\n      <td>26.960938</td>\n    </tr>\n    <tr>\n      <th>std</th>\n      <td>5.200596</td>\n      <td>16.426158</td>\n      <td>18.977814</td>\n      <td>15.466499</td>\n      <td>16.927937</td>\n      <td>18.727807</td>\n    </tr>\n    <tr>\n      <th>min</th>\n      <td>26.000000</td>\n      <td>1.000000</td>\n      <td>0.000000</td>\n      <td>71.000000</td>\n      <td>0.000000</td>\n      <td>0.000000</td>\n    </tr>\n    <tr>\n      <th>25%</th>\n      <td>35.000000</td>\n      <td>16.000000</td>\n      <td>11.000000</td>\n      <td>80.000000</td>\n      <td>14.000000</td>\n      <td>11.000000</td>\n    </tr>\n    <tr>\n      <th>50%</th>\n      <td>39.000000</td>\n      <td>31.000000</td>\n      <td>24.000000</td>\n      <td>89.500000</td>\n      <td>26.500000</td>\n      <td>23.500000</td>\n    </tr>\n    <tr>\n      <th>75%</th>\n      <td>42.250000</td>\n      <td>45.000000</td>\n      <td>47.000000</td>\n      <td>103.250000</td>\n      <td>40.250000</td>\n      <td>47.000000</td>\n    </tr>\n    <tr>\n      <th>max</th>\n      <td>50.000000</td>\n      <td>59.000000</td>\n      <td>59.000000</td>\n      <td>123.000000</td>\n      <td>58.000000</td>\n      <td>59.000000</td>\n    </tr>\n  </tbody>\n</table>\n</div>"
     },
     "execution_count": 75,
     "metadata": {},
     "output_type": "execute_result"
    }
   ],
   "source": [
    "dataframe.describe()"
   ]
  },
  {
   "cell_type": "code",
   "execution_count": 76,
   "metadata": {
    "ExecuteTime": {
     "end_time": "2023-11-09T06:59:37.883199117Z",
     "start_time": "2023-11-09T06:59:37.834634207Z"
    }
   },
   "outputs": [
    {
     "data": {
      "text/plain": "   LatD   \"LatM\"   \"LatS\"  \"NS\"   \"LonD\"   \"LonM\"   \"LonS\"  \"EW\"  \\\n2    46       35       59   \"N\"      120       30       36   \"W\"   \n3    42       16       12   \"N\"       71       48        0   \"W\"   \n4    43       37       48   \"N\"       89       46       11   \"W\"   \n5    36        5       59   \"N\"       80       15        0   \"W\"   \n\n               \"City\"  \"State\"  \n2            \"Yakima\"       WA  \n3         \"Worcester\"       MA  \n4   \"Wisconsin Dells\"       WI  \n5     \"Winston-Salem\"       NC  ",
      "text/html": "<div>\n<style scoped>\n    .dataframe tbody tr th:only-of-type {\n        vertical-align: middle;\n    }\n\n    .dataframe tbody tr th {\n        vertical-align: top;\n    }\n\n    .dataframe thead th {\n        text-align: right;\n    }\n</style>\n<table border=\"1\" class=\"dataframe\">\n  <thead>\n    <tr style=\"text-align: right;\">\n      <th></th>\n      <th>LatD</th>\n      <th>\"LatM\"</th>\n      <th>\"LatS\"</th>\n      <th>\"NS\"</th>\n      <th>\"LonD\"</th>\n      <th>\"LonM\"</th>\n      <th>\"LonS\"</th>\n      <th>\"EW\"</th>\n      <th>\"City\"</th>\n      <th>\"State\"</th>\n    </tr>\n  </thead>\n  <tbody>\n    <tr>\n      <th>2</th>\n      <td>46</td>\n      <td>35</td>\n      <td>59</td>\n      <td>\"N\"</td>\n      <td>120</td>\n      <td>30</td>\n      <td>36</td>\n      <td>\"W\"</td>\n      <td>\"Yakima\"</td>\n      <td>WA</td>\n    </tr>\n    <tr>\n      <th>3</th>\n      <td>42</td>\n      <td>16</td>\n      <td>12</td>\n      <td>\"N\"</td>\n      <td>71</td>\n      <td>48</td>\n      <td>0</td>\n      <td>\"W\"</td>\n      <td>\"Worcester\"</td>\n      <td>MA</td>\n    </tr>\n    <tr>\n      <th>4</th>\n      <td>43</td>\n      <td>37</td>\n      <td>48</td>\n      <td>\"N\"</td>\n      <td>89</td>\n      <td>46</td>\n      <td>11</td>\n      <td>\"W\"</td>\n      <td>\"Wisconsin Dells\"</td>\n      <td>WI</td>\n    </tr>\n    <tr>\n      <th>5</th>\n      <td>36</td>\n      <td>5</td>\n      <td>59</td>\n      <td>\"N\"</td>\n      <td>80</td>\n      <td>15</td>\n      <td>0</td>\n      <td>\"W\"</td>\n      <td>\"Winston-Salem\"</td>\n      <td>NC</td>\n    </tr>\n  </tbody>\n</table>\n</div>"
     },
     "execution_count": 76,
     "metadata": {},
     "output_type": "execute_result"
    }
   ],
   "source": [
    "dataframe.iloc[2:6]"
   ]
  },
  {
   "cell_type": "code",
   "execution_count": 77,
   "metadata": {
    "ExecuteTime": {
     "end_time": "2023-11-09T06:59:37.883794913Z",
     "start_time": "2023-11-09T06:59:37.840720798Z"
    }
   },
   "outputs": [
    {
     "data": {
      "text/plain": "   LatD   \"LatM\"   \"LatS\"  \"NS\"   \"LonD\"   \"LonM\"   \"LonS\"  \"EW\"  \\\n0    41        5       59   \"N\"       80       39        0   \"W\"   \n3    42       16       12   \"N\"       71       48        0   \"W\"   \n\n          \"City\"  \"State\"  \n0   \"Youngstown\"       OH  \n3    \"Worcester\"       MA  ",
      "text/html": "<div>\n<style scoped>\n    .dataframe tbody tr th:only-of-type {\n        vertical-align: middle;\n    }\n\n    .dataframe tbody tr th {\n        vertical-align: top;\n    }\n\n    .dataframe thead th {\n        text-align: right;\n    }\n</style>\n<table border=\"1\" class=\"dataframe\">\n  <thead>\n    <tr style=\"text-align: right;\">\n      <th></th>\n      <th>LatD</th>\n      <th>\"LatM\"</th>\n      <th>\"LatS\"</th>\n      <th>\"NS\"</th>\n      <th>\"LonD\"</th>\n      <th>\"LonM\"</th>\n      <th>\"LonS\"</th>\n      <th>\"EW\"</th>\n      <th>\"City\"</th>\n      <th>\"State\"</th>\n    </tr>\n  </thead>\n  <tbody>\n    <tr>\n      <th>0</th>\n      <td>41</td>\n      <td>5</td>\n      <td>59</td>\n      <td>\"N\"</td>\n      <td>80</td>\n      <td>39</td>\n      <td>0</td>\n      <td>\"W\"</td>\n      <td>\"Youngstown\"</td>\n      <td>OH</td>\n    </tr>\n    <tr>\n      <th>3</th>\n      <td>42</td>\n      <td>16</td>\n      <td>12</td>\n      <td>\"N\"</td>\n      <td>71</td>\n      <td>48</td>\n      <td>0</td>\n      <td>\"W\"</td>\n      <td>\"Worcester\"</td>\n      <td>MA</td>\n    </tr>\n  </tbody>\n</table>\n</div>"
     },
     "execution_count": 77,
     "metadata": {},
     "output_type": "execute_result"
    }
   ],
   "source": [
    "dataframe[dataframe[' \\\"LonS\\\"'] == 0].head(2)"
   ]
  },
  {
   "cell_type": "markdown",
   "metadata": {},
   "source": [
    "
   ]
  },
  {
   "cell_type": "markdown",
   "metadata": {},
   "source": [
    "Необходимо выполнить нормализацию первого числового признака (`sepal_length_cm`) с использованием минимаксного преобразования, а второго (`sepal_width_cm`) с задействованием z-масштабирования."
   ]
  },
  {
   "cell_type": "code",
   "execution_count": 78,
   "metadata": {
    "ExecuteTime": {
     "end_time": "2023-11-09T06:59:38.342164283Z",
     "start_time": "2023-11-09T06:59:37.845284650Z"
    }
   },
   "outputs": [
    {
     "data": {
      "text/plain": "     sepal_length_cm  sepal_width_cm  petal_length_cm  petal_width_cm  \\\n0           0.222222        1.032057              1.4             0.2   \n1           0.166667       -0.124958              1.4             0.2   \n2           0.111111        0.337848              1.3             0.2   \n3           0.083333        0.106445              1.5             0.2   \n4           0.194444        1.263460              1.4             0.2   \n..               ...             ...              ...             ...   \n145         0.666667       -0.124958              5.2             2.3   \n146         0.555556       -1.281972              5.0             1.9   \n147         0.611111       -0.124958              5.2             2.0   \n148         0.527778        0.800654              5.4             2.3   \n149         0.444444       -0.124958              5.1             1.8   \n\n       species  \n0       setosa  \n1       setosa  \n2       setosa  \n3       setosa  \n4       setosa  \n..         ...  \n145  virginica  \n146  virginica  \n147  virginica  \n148  virginica  \n149  virginica  \n\n[150 rows x 5 columns]",
      "text/html": "<div>\n<style scoped>\n    .dataframe tbody tr th:only-of-type {\n        vertical-align: middle;\n    }\n\n    .dataframe tbody tr th {\n        vertical-align: top;\n    }\n\n    .dataframe thead th {\n        text-align: right;\n    }\n</style>\n<table border=\"1\" class=\"dataframe\">\n  <thead>\n    <tr style=\"text-align: right;\">\n      <th></th>\n      <th>sepal_length_cm</th>\n      <th>sepal_width_cm</th>\n      <th>petal_length_cm</th>\n      <th>petal_width_cm</th>\n      <th>species</th>\n    </tr>\n  </thead>\n  <tbody>\n    <tr>\n      <th>0</th>\n      <td>0.222222</td>\n      <td>1.032057</td>\n      <td>1.4</td>\n      <td>0.2</td>\n      <td>setosa</td>\n    </tr>\n    <tr>\n      <th>1</th>\n      <td>0.166667</td>\n      <td>-0.124958</td>\n      <td>1.4</td>\n      <td>0.2</td>\n      <td>setosa</td>\n    </tr>\n    <tr>\n      <th>2</th>\n      <td>0.111111</td>\n      <td>0.337848</td>\n      <td>1.3</td>\n      <td>0.2</td>\n      <td>setosa</td>\n    </tr>\n    <tr>\n      <th>3</th>\n      <td>0.083333</td>\n      <td>0.106445</td>\n      <td>1.5</td>\n      <td>0.2</td>\n      <td>setosa</td>\n    </tr>\n    <tr>\n      <th>4</th>\n      <td>0.194444</td>\n      <td>1.263460</td>\n      <td>1.4</td>\n      <td>0.2</td>\n      <td>setosa</td>\n    </tr>\n    <tr>\n      <th>...</th>\n      <td>...</td>\n      <td>...</td>\n      <td>...</td>\n      <td>...</td>\n      <td>...</td>\n    </tr>\n    <tr>\n      <th>145</th>\n      <td>0.666667</td>\n      <td>-0.124958</td>\n      <td>5.2</td>\n      <td>2.3</td>\n      <td>virginica</td>\n    </tr>\n    <tr>\n      <th>146</th>\n      <td>0.555556</td>\n      <td>-1.281972</td>\n      <td>5.0</td>\n      <td>1.9</td>\n      <td>virginica</td>\n    </tr>\n    <tr>\n      <th>147</th>\n      <td>0.611111</td>\n      <td>-0.124958</td>\n      <td>5.2</td>\n      <td>2.0</td>\n      <td>virginica</td>\n    </tr>\n    <tr>\n      <th>148</th>\n      <td>0.527778</td>\n      <td>0.800654</td>\n      <td>5.4</td>\n      <td>2.3</td>\n      <td>virginica</td>\n    </tr>\n    <tr>\n      <th>149</th>\n      <td>0.444444</td>\n      <td>-0.124958</td>\n      <td>5.1</td>\n      <td>1.8</td>\n      <td>virginica</td>\n    </tr>\n  </tbody>\n</table>\n<p>150 rows × 5 columns</p>\n</div>"
     },
     "execution_count": 78,
     "metadata": {},
     "output_type": "execute_result"
    }
   ],
   "source": [
    "import pandas as pd\n",
    "from sklearn import preprocessing\n",
    "\n",
    "url = 'https://raw.githubusercontent.com/akmand/datasets/master/iris.csv'\n",
    "dataframe = pd.read_csv(url)\n",
    "\n",
    "scaler1 = preprocessing.MinMaxScaler()\n",
    "scaler2 = preprocessing.StandardScaler()\n",
    "dataframe[['sepal_length_cm']] = scaler1.fit_transform(dataframe[['sepal_length_cm']])\n",
    "dataframe[['sepal_width_cm']] = scaler2.fit_transform(dataframe[['sepal_width_cm']])\n",
    "\n",
    "dataframe"
   ]
  },
  {
   "cell_type": "code",
   "execution_count": 78,
   "metadata": {
    "ExecuteTime": {
     "end_time": "2023-11-09T06:59:38.343222897Z",
     "start_time": "2023-11-09T06:59:38.338422161Z"
    }
   },
   "outputs": [],
   "source": []
  }
 ],
 "metadata": {
  "kernelspec": {
   "display_name": "Python 3 (ipykernel)",
   "language": "python",
   "name": "python3"
  },
  "language_info": {
   "codemirror_mode": {
    "name": "ipython",
    "version": 3
   },
   "file_extension": ".py",
   "mimetype": "text/x-python",
   "name": "python",
   "nbconvert_exporter": "python",
   "pygments_lexer": "ipython3",
   "version": "3.10.9"
  }
 },
 "nbformat": 4,
 "nbformat_minor": 1
}
