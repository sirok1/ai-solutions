{
 "cells": [
  {
   "cell_type": "code",
   "execution_count": 9,
   "id": "initial_id",
   "metadata": {
    "collapsed": true,
    "ExecuteTime": {
     "end_time": "2023-12-07T07:05:53.691159854Z",
     "start_time": "2023-12-07T07:05:53.550725745Z"
    }
   },
   "outputs": [
    {
     "name": "stdout",
     "output_type": "stream",
     "text": [
      "0.9990889488055994\n"
     ]
    }
   ],
   "source": [
    "import numpy as np\n",
    "\n",
    "\n",
    "def sigmoid(x):\n",
    "    # Функция активации: f(x) = 1 / (1 + e*(-x))\n",
    "    return 1 / (1 + np.exp(-x))\n",
    "class Neuron:\n",
    "    def __init__(self, weights, bias):\n",
    "        self.weights = weights\n",
    "        self.bias = bias\n",
    "    def feedforward(self, inputs):\n",
    "        total = np.dot(self.weights, inputs) + self.bias\n",
    "        return sigmoid(total)\n",
    "\n",
    "weights = np.array([0, 1])  \n",
    "bias = 4                    \n",
    "n = Neuron(weights, bias) \n",
    "x = np.array([2, 3])       \n",
    "print(n.feedforward(x))"
   ]
  },
  {
   "cell_type": "code",
   "execution_count": 10,
   "outputs": [
    {
     "name": "stdout",
     "output_type": "stream",
     "text": [
      "0.8151036049051821\n"
     ]
    }
   ],
   "source": [
    "class OurNeuralNetwork:\n",
    "    def __init__(self):\n",
    "        weights = np.array([0.5, 0.5, 0.5]) # w = [1,0]\n",
    "        bias = 0 # b = 1\n",
    "        self.h1 = Neuron(weights, bias) # 1 нейрон\n",
    "        self.h2 = Neuron(weights, bias) # 2 нейрон\n",
    "        self.h3 = Neuron(weights, bias) # 2 нейрон\n",
    "        self.o1 = Neuron(weights, bias) # 1 выход\n",
    "    def feedforward(self, x):\n",
    "        out_h1 = self.h1.feedforward(x)\n",
    "        out_h2 = self.h2.feedforward(x)\n",
    "        out_h3 = self.h2.feedforward(x)\n",
    "        # Входы для o1 — это входы h1 и h2\n",
    "        out_o1 = self.o1.feedforward(np.array([out_h1, out_h2, out_h3]))\n",
    "        return out_o1\n",
    "\n",
    "network = OurNeuralNetwork()\n",
    "x = np.array([2, 3, 4])\n",
    "print(network.feedforward(x)) "
   ],
   "metadata": {
    "collapsed": false,
    "ExecuteTime": {
     "end_time": "2023-12-07T07:05:53.691583870Z",
     "start_time": "2023-12-07T07:05:53.599701893Z"
    }
   },
   "id": "b63581c7f9e81736"
  },
  {
   "cell_type": "code",
   "execution_count": 11,
   "outputs": [
    {
     "name": "stdout",
     "output_type": "stream",
     "text": [
      "(0.8757270529783324, 0.8757270529783324)\n"
     ]
    }
   ],
   "source": [
    "class OurNeuralNetwork:\n",
    "    def __init__(self):\n",
    "        weights = np.array([1, 0]) # w = [1,0]\n",
    "        bias = 1 # b = 1\n",
    "        # Knacc Neuron u3 предыдущего раздела\n",
    "        self.h1 = Neuron(weights, bias) # 1 нейрон\n",
    "        self.h2 = Neuron(weights, bias) # 2 нейрон\n",
    "        self.o1 = Neuron(weights, bias) # 1 выход\n",
    "        self.o2 = Neuron(weights, bias) # 2 выход\n",
    "    def feedforward(self, x):\n",
    "        out_h1 = self.h1.feedforward(x)\n",
    "        out_h2 = self.h2.feedforward(x)\n",
    "        # Входы для o1 — это входы h1 и h2\n",
    "        out_o1 = self.o1.feedforward(np.array([out_h1, out_h2]))\n",
    "        out_o2 = self.o2.feedforward(np.array([out_h1, out_h2]))\n",
    "        return out_o1, out_o2\n",
    "\n",
    "network = OurNeuralNetwork()\n",
    "x = np.array([2, 3])\n",
    "print(network.feedforward(x)) "
   ],
   "metadata": {
    "collapsed": false,
    "ExecuteTime": {
     "end_time": "2023-12-07T07:05:53.691873886Z",
     "start_time": "2023-12-07T07:05:53.600538062Z"
    }
   },
   "id": "39d8c59870de88f2"
  },
  {
   "cell_type": "code",
   "execution_count": 12,
   "outputs": [
    {
     "name": "stdout",
     "output_type": "stream",
     "text": [
      "0.8151036049051821\n",
      "(0.8757270529783324, 0.8757270529783324)\n"
     ]
    }
   ],
   "source": [
    "## Sigmoid\n",
    "def sigmoid(x):\n",
    "    sig = 1 / (1 + np.exp(-x))\n",
    "    return sig\n",
    "\n",
    "class Neuron1:\n",
    "    def __init__(self, weights, bias):\n",
    "        self.weights = weights\n",
    "        self.bias = bias\n",
    "    def feedforward (self, inputs):\n",
    "        total = np.dot(self.weights, inputs) + self.bias\n",
    "        return sigmoid(total)\n",
    "\n",
    "class OurNeuralNetwork:\n",
    "    def __init__(self):\n",
    "        weights = np.array([0.5, 0.5, 0.5])\n",
    "        bias = 0\n",
    "        self.h1 = Neuron1(weights, bias)\n",
    "        self.h2 = Neuron1(weights, bias)\n",
    "        self.h3 = Neuron1(weights, bias)\n",
    "        self.o1 = Neuron1(weights, bias)\n",
    "    def feedforward(self, x):\n",
    "        out_h1 = self.h1.feedforward(x)\n",
    "        out_h2 = self.h2.feedforward(x)\n",
    "        out_h3 = self.h3.feedforward(x)\n",
    "        out_o1 = self.o1.feedforward(np.array([out_h1, out_h2, out_h3]))\n",
    "        return out_o1\n",
    "\n",
    "class OrNeuralNetwork:\n",
    "    def __init__(self):\n",
    "        weights = np.array([1,0])\n",
    "        bias = 1\n",
    "\n",
    "        self.h1 = Neuron1(weights, bias)\n",
    "        self.h2 = Neuron1(weights, bias)\n",
    "        self.o1 = Neuron1(weights, bias)\n",
    "        self.o2 = Neuron1(weights, bias)\n",
    "    def feedforward(self, x):\n",
    "        out_h1 = self.h1.feedforward(x)\n",
    "        out_h2 = self.h2.feedforward(x)\n",
    "        out_o1 = self.o1.feedforward(np.array([out_h1, out_h2]))\n",
    "        out_o2 = self.o2.feedforward(np.array([out_h1, out_h2]))\n",
    "        return out_o1, out_o2\n",
    "\n",
    "\n",
    "network = OurNeuralNetwork()\n",
    "x = np.array ([2, 3, 4])\n",
    "print (network.feedforward(x))\n",
    "\n",
    "network = OrNeuralNetwork()\n",
    "x = np.array ([2, 3])\n",
    "print (network.feedforward(x))"
   ],
   "metadata": {
    "collapsed": false,
    "ExecuteTime": {
     "end_time": "2023-12-07T07:05:53.695027969Z",
     "start_time": "2023-12-07T07:05:53.600815940Z"
    }
   },
   "id": "191a5192e3613176"
  },
  {
   "cell_type": "code",
   "execution_count": 13,
   "outputs": [
    {
     "name": "stdout",
     "output_type": "stream",
     "text": [
      "0.7968426715486375\n",
      "(1.1555911185916798, 1.1555911185916798)\n"
     ]
    }
   ],
   "source": [
    "def tanh(x):\n",
    "    return np.tan(x)\n",
    "\n",
    "\n",
    "class Neuron2:\n",
    "    def __init__(self, weights, bias):\n",
    "        self.weights = weights\n",
    "        self.bias = bias\n",
    "    def feedforward (self, inputs):\n",
    "        total = np.dot(self.weights, inputs) + self.bias\n",
    "        return tanh(total)\n",
    "\n",
    "class OurNeuralNetwork:\n",
    "    def __init__(self):\n",
    "        weights = np.array([0.5, 0.5, 0.5])\n",
    "        bias = 0 \n",
    "        self.h1 = Neuron2(weights, bias)\n",
    "        self.h2 = Neuron2(weights, bias)\n",
    "        self.h3 = Neuron2(weights, bias)\n",
    "        self.o1 = Neuron2(weights, bias)\n",
    "    def feedforward(self, x):\n",
    "        out_h1 = self.h1.feedforward(x)\n",
    "        out_h2 = self.h2.feedforward(x)\n",
    "        out_h3 = self.h3.feedforward(x)\n",
    "        out_o1 = self.o1.feedforward(np.array([out_h1, out_h2, out_h3]))\n",
    "        return out_o1\n",
    "    \n",
    "network = OurNeuralNetwork()\n",
    "x = np.array ([2, 3, 4])\n",
    "print (network.feedforward(x))\n",
    "\n",
    "class OurNeuralNetwork:\n",
    "    def __init__(self):\n",
    "        weights = np.array([1,0])\n",
    "        bias = 1\n",
    "        \n",
    "        self.h1 = Neuron2(weights, bias)\n",
    "        self.h2 = Neuron2(weights, bias)\n",
    "        self.o1 = Neuron2(weights, bias)\n",
    "        self.o2 = Neuron2(weights, bias)\n",
    "    def feedforward(self, x):\n",
    "        out_h1 = self.h1.feedforward(x)\n",
    "        out_h2 = self.h2.feedforward(x)\n",
    "        out_o1 = self.o1.feedforward(np.array([out_h1, out_h2]))\n",
    "        out_o2 = self.o2.feedforward(np.array([out_h1, out_h2]))\n",
    "        return out_o1, out_o2\n",
    "    \n",
    "network = OurNeuralNetwork()\n",
    "x = np.array ([2, 3])\n",
    "print (network.feedforward(x))"
   ],
   "metadata": {
    "collapsed": false,
    "ExecuteTime": {
     "end_time": "2023-12-07T07:05:53.695581817Z",
     "start_time": "2023-12-07T07:05:53.620256579Z"
    }
   },
   "id": "b5f0a5e6b0a8fdf7"
  },
  {
   "cell_type": "code",
   "execution_count": 14,
   "outputs": [
    {
     "name": "stdout",
     "output_type": "stream",
     "text": [
      "6.75\n",
      "(4, 4)\n"
     ]
    }
   ],
   "source": [
    "def ReLU(x):\n",
    "    return np.maximum(0, x)\n",
    "\n",
    "class Neuron3:\n",
    "    def __init__(self, weights, bias):\n",
    "        self.weights = weights\n",
    "        self.bias = bias\n",
    "    def feedforward (self, inputs):\n",
    "        total = np.dot(self.weights, inputs) + self.bias\n",
    "        return ReLU(total)\n",
    "\n",
    "class OurNeuralNetwork:\n",
    "    def __init__(self):\n",
    "        weights = np.array([0.5, 0.5, 0.5])\n",
    "        bias = 0 \n",
    "        self.h1 = Neuron3(weights, bias)\n",
    "        self.h2 = Neuron3(weights, bias)\n",
    "        self.h3 = Neuron3(weights, bias)\n",
    "        self.o1 = Neuron3(weights, bias)\n",
    "    def feedforward(self, x):\n",
    "        out_h1 = self.h1.feedforward(x)\n",
    "        out_h2 = self.h2.feedforward(x)\n",
    "        out_h3 = self.h3.feedforward(x)\n",
    "        out_o1 = self.o1.feedforward(np.array([out_h1, out_h2, out_h3]))\n",
    "        return out_o1\n",
    "    \n",
    "network = OurNeuralNetwork()\n",
    "x = np.array ([2, 3, 4])\n",
    "print (network.feedforward(x))\n",
    "\n",
    "class OurNeuralNetwork:\n",
    "    def __init__(self):\n",
    "        weights = np.array([1,0])\n",
    "        bias = 1\n",
    "        \n",
    "        self.h1 = Neuron3(weights, bias)\n",
    "        self.h2 = Neuron3(weights, bias)\n",
    "        self.o1 = Neuron3(weights, bias)\n",
    "        self.o2 = Neuron3(weights, bias)\n",
    "    def feedforward(self, x):\n",
    "        out_h1 = self.h1.feedforward(x)\n",
    "        out_h2 = self.h2.feedforward(x)\n",
    "        out_o1 = self.o1.feedforward(np.array([out_h1, out_h2]))\n",
    "        out_o2 = self.o2.feedforward(np.array([out_h1, out_h2]))\n",
    "        return out_o1, out_o2\n",
    "    \n",
    "network = OurNeuralNetwork()\n",
    "x = np.array ([2, 3])\n",
    "print (network.feedforward(x))"
   ],
   "metadata": {
    "collapsed": false,
    "ExecuteTime": {
     "end_time": "2023-12-07T07:05:53.695967800Z",
     "start_time": "2023-12-07T07:05:53.665679353Z"
    }
   },
   "id": "5931ec0b29eb23bb"
  },
  {
   "cell_type": "code",
   "execution_count": 15,
   "outputs": [
    {
     "name": "stdout",
     "output_type": "stream",
     "text": [
      "Dataset Size:  (150, 4) (150,)\n",
      "(120, 4) (30, 4) (120,) (30,)\n",
      "['Versicolor' 'Setosa' 'Virginica' 'Virginica' 'Setosa' 'Setosa'\n",
      " 'Virginica' 'Virginica' 'Virginica' 'Setosa' 'Setosa' 'Versicolor'\n",
      " 'Virginica' 'Versicolor' 'Virginica']\n",
      "80     Versicolor\n",
      "45         Setosa\n",
      "144     Virginica\n",
      "110     Virginica\n",
      "38         Setosa\n",
      "2          Setosa\n",
      "135     Virginica\n",
      "72     Versicolor\n",
      "138     Virginica\n",
      "34         Setosa\n",
      "19         Setosa\n",
      "77     Versicolor\n",
      "101     Virginica\n",
      "63     Versicolor\n",
      "117     Virginica\n",
      "Name: target, dtype: object\n",
      "Test Accuracy: 0.933\n",
      "Training Accuracy: 0.983\n",
      "Loss:  0.2988789340197433\n",
      "Number of Coefs:  2\n",
      "Number of Intercepts:  2\n",
      "Number of Iteration for Which Estimator Ran:  200\n",
      "Name of Output Layer Activation Function:  softmax\n"
     ]
    },
    {
     "name": "stderr",
     "output_type": "stream",
     "text": [
      "/home/sirok/PycharmProjects/ai/venv/lib/python3.11/site-packages/sklearn/neural_network/_multilayer_perceptron.py:691: ConvergenceWarning: Stochastic Optimizer: Maximum iterations (200) reached and the optimization hasn't converged yet.\n",
      "  warnings.warn(\n"
     ]
    }
   ],
   "source": [
    "import pandas as pd\n",
    "from sklearn.model_selection import train_test_split\n",
    "url = 'https://gist.githubusercontent.com/netj/8836201/raw/6f9306ad21398ea43cba4f7d537619d0e07d5ae3/iris.csv'\n",
    "df = pd.read_csv(url)\n",
    "df.head(5)\n",
    "df\n",
    "df = df.rename(columns={'variety': 'target'})\n",
    "X_df, Y_df = df.drop(['target'], axis=1), df.target\n",
    "print('Dataset Size: ', X_df.shape, Y_df.shape)\n",
    "\n",
    "X_train, X_test, Y_train, Y_test = train_test_split(X_df, Y_df, train_size=0.80, test_size=0.20, stratify=Y_df, random_state=123)\n",
    "print(X_train.shape, X_test.shape, Y_train.shape, Y_test.shape)\n",
    "from sklearn.neural_network import MLPClassifier\n",
    "\n",
    "mlp_classifier = MLPClassifier(random_state=123)\n",
    "mlp_classifier.fit(X_train, Y_train)\n",
    "Y_preds = mlp_classifier.predict(X_test)\n",
    "\n",
    "print(Y_preds[:15])\n",
    "print(Y_test[:15])\n",
    "print('Test Accuracy: %.3f' % mlp_classifier.score(X_test, Y_test))\n",
    "print('Training Accuracy: %.3f' % mlp_classifier.score(X_train, Y_train))\n",
    "\n",
    "print('Loss: ', mlp_classifier.loss_)\n",
    "print('Number of Coefs: ', len(mlp_classifier.coefs_))\n",
    "print('Number of Intercepts: ', len(mlp_classifier.intercepts_))\n",
    "\n",
    "print('Number of Iteration for Which Estimator Ran: ', mlp_classifier.n_iter_)\n",
    "print('Name of Output Layer Activation Function: ', mlp_classifier.out_activation_)"
   ],
   "metadata": {
    "collapsed": false,
    "ExecuteTime": {
     "end_time": "2023-12-07T07:05:56.073771809Z",
     "start_time": "2023-12-07T07:05:53.709434878Z"
    }
   },
   "id": "8e7771bebff33a5b"
  },
  {
   "cell_type": "code",
   "execution_count": 16,
   "outputs": [
    {
     "name": "stdout",
     "output_type": "stream",
     "text": [
      "Dataset Size:  (30, 1) (30,)\n",
      "Train/Test size:  (24, 1) (6, 1) (24,) (6,)\n",
      "[20.26234628 55.2781752  18.82135812 50.48274487 20.26234628 50.9622879 ]\n",
      "7      54445.0\n",
      "29    121872.0\n",
      "5      56642.0\n",
      "26    116969.0\n",
      "8      64445.0\n",
      "27    112635.0\n",
      "Name: target, dtype: float64\n",
      "Test R^2 Score: -8.796\n",
      "Training R^2 Score: -8.261\n",
      "Loss:  2988058032.1601596\n",
      "Number of Coefs:  2\n",
      "Number of Intercepts:  2\n",
      "Number of Iteration for Which Estimator Ran:  200\n",
      "Name of Output Layer Activation Function:  identity\n"
     ]
    },
    {
     "name": "stderr",
     "output_type": "stream",
     "text": [
      "/home/sirok/PycharmProjects/ai/venv/lib/python3.11/site-packages/sklearn/neural_network/_multilayer_perceptron.py:691: ConvergenceWarning: Stochastic Optimizer: Maximum iterations (200) reached and the optimization hasn't converged yet.\n",
      "  warnings.warn(\n"
     ]
    }
   ],
   "source": [
    "url = 'https://raw.githubusercontent.com/AnnaShestova/salary-years-simple-linear-regression/master/Salary_Data.csv'\n",
    "df = pd.read_csv(url)\n",
    "df.head(5)\n",
    "df\n",
    "df = df.rename(columns={'Salary':'target'})\n",
    "X_df, Y_df = df.drop(['target'], axis=1), df.target\n",
    "print ('Dataset Size: ', X_df.shape, Y_df.shape)\n",
    "X_train, X_test, Y_train, Y_test = train_test_split(X_df, Y_df, train_size = 0.80, test_size = 0.20, random_state = 123)\n",
    "print ('Train/Test size: ', X_train.shape, X_test.shape, Y_train.shape, Y_test.shape)\n",
    "from sklearn.neural_network import MLPRegressor\n",
    "\n",
    "mlp_regressor = MLPRegressor(random_state=123)\n",
    "mlp_regressor.fit(X_train, Y_train)\n",
    "Y_preds = mlp_regressor.predict(X_test)\n",
    "\n",
    "print (Y_preds[:10])\n",
    "print (Y_test[:10])\n",
    "print ('Test R^2 Score: %.3f'%mlp_regressor.score(X_test, Y_test))\n",
    "print ('Training R^2 Score: %.3f'%mlp_regressor.score(X_train, Y_train))\n",
    "\n",
    "print ('Loss: ', mlp_regressor.loss_)\n",
    "print ('Number of Coefs: ', len(mlp_regressor.coefs_))\n",
    "print ('Number of Intercepts: ', len(mlp_regressor.intercepts_))\n",
    "print ('Number of Iteration for Which Estimator Ran: ', mlp_regressor.n_iter_)\n",
    "print ('Name of Output Layer Activation Function: ', mlp_regressor.out_activation_)\n"
   ],
   "metadata": {
    "collapsed": false,
    "ExecuteTime": {
     "end_time": "2023-12-07T07:05:56.688285905Z",
     "start_time": "2023-12-07T07:05:56.058845593Z"
    }
   },
   "id": "fcec91fec3a2b601"
  }
 ],
 "metadata": {
  "kernelspec": {
   "display_name": "Python 3",
   "language": "python",
   "name": "python3"
  },
  "language_info": {
   "codemirror_mode": {
    "name": "ipython",
    "version": 2
   },
   "file_extension": ".py",
   "mimetype": "text/x-python",
   "name": "python",
   "nbconvert_exporter": "python",
   "pygments_lexer": "ipython2",
   "version": "2.7.6"
  }
 },
 "nbformat": 4,
 "nbformat_minor": 5
}
